{
  "nbformat": 4,
  "nbformat_minor": 0,
  "metadata": {
    "colab": {
      "provenance": []
    },
    "kernelspec": {
      "name": "python3",
      "display_name": "Python 3"
    },
    "language_info": {
      "name": "python"
    }
  },
  "cells": [
    {
      "cell_type": "code",
      "source": [
        "import os\n",
        "from tensorflow import keras\n",
        "from keras.callbacks import EarlyStopping\n",
        "import numpy as np\n",
        "import matplotlib.pyplot as plt\n",
        "import pandas as pd\n",
        "from sklearn.model_selection import train_test_split\n",
        "from datetime import date, timedelta\n",
        "import yfinance as yf\n",
        "from tqdm import tqdm\n",
        "\n",
        "\n",
        "TIMESTEPS = 21\n",
        "FEATURES = 5\n",
        "PREDICT_DAYS = 8\n",
        "MAX_EPOCHS = 100\n",
        "PATIENCE = MAX_EPOCHS // 10\n",
        "TEST_RUN = 10\n",
        "STOCK_CODES = [\n",
        "    \"AAPL\",\n",
        "    \"AMD\",\n",
        "    \"CVNA\",\n",
        "    \"GOOGL\",\n",
        "    \"MSFT\",\n",
        "    \"NVDA\",\n",
        "    \"PLTR\",\n",
        "    \"RBLX\",\n",
        "    \"RIVN\",\n",
        "    \"T\",\n",
        "    \"TSLA\",\n",
        "\n",
        "]"
      ],
      "metadata": {
        "id": "yy4lt5qKjRUd"
      },
      "execution_count": null,
      "outputs": []
    },
    {
      "cell_type": "code",
      "source": [
        "def predict(stock_code):\n",
        "  today = str((date.today()-timedelta(days=0)))\n",
        "  end_date = today\n",
        "  start_date = \"2020\" + today[4:]\n",
        "  path = os.path.join(\"data\", f'{stock_code}.csv')\n",
        "  if not os.path.exists(path):\n",
        "    print(f\"Downloading {stock_code} data from {start_date} to {end_date}\")\n",
        "    data = yf.download(stock_code, start=start_date, end=end_date)\n",
        "    data.to_csv(path)\n",
        "\n",
        "\n",
        "  data = pd.read_csv(path)\n",
        "\n",
        "  data.pop(\"Volume\")\n",
        "  data.pop(\"Date\")\n",
        "  arr = np.array(data)\n",
        "  inputs, target = [], []\n",
        "  for i in range(len(arr)-TIMESTEPS):\n",
        "    inputs.append(arr[i:i+TIMESTEPS])\n",
        "    target.append(arr[i+TIMESTEPS])\n",
        "\n",
        "\n",
        "  x_train, x_test, y_train, y_test = train_test_split(np.array(inputs), np.array(target), test_size=0.2, shuffle=False)\n",
        "\n",
        "  # plt.plot(data.index, data['Close'])\n",
        "\n",
        "  model = keras.Sequential([\n",
        "    keras.layers.Input((TIMESTEPS, FEATURES)),\n",
        "    keras.layers.LSTM(128),\n",
        "    keras.layers.Dense(32, activation='relu'),\n",
        "    keras.layers.Dense(32, activation='relu'),\n",
        "    keras.layers.Dense(32, activation='relu'),\n",
        "    keras.layers.Dense(FEATURES)\n",
        "  ])\n",
        "  # model.summary()\n",
        "  model.compile(loss='mse', \n",
        "                optimizer=keras.optimizers.Adam(learning_rate=0.001),\n",
        "                metrics=['mae'])\n",
        "\n",
        "  history = model.fit(x_train, y_train, batch_size=16, epochs=MAX_EPOCHS, validation_data=(x_test, y_test),\n",
        "              callbacks=[\n",
        "                EarlyStopping(\n",
        "                    monitor=\"loss\",\n",
        "                    patience=PATIENCE,\n",
        "                    restore_best_weights=True,\n",
        "                    start_from_epoch=8,\n",
        "                ),\n",
        "                EarlyStopping(\n",
        "                    monitor=\"val_loss\",\n",
        "                    patience=PATIENCE,\n",
        "                    restore_best_weights=True,\n",
        "                    start_from_epoch=8,\n",
        "                ),\n",
        "            ],\n",
        "            verbose=0\n",
        "            )\n",
        "  mae = history.history['mae']\n",
        "\n",
        "  results = []\n",
        "  current_input = []\n",
        "  for i in range(TIMESTEPS-1, -1, -1):\n",
        "    index = len(data)-i-1\n",
        "    current_input.append(data.iloc[index])\n",
        "  results.append(current_input[-1])\n",
        "  for i in range(PREDICT_DAYS):\n",
        "    output = model.predict(np.array([current_input]), verbose=0)\n",
        "    results.append(list(output[0]))\n",
        "    current_input.pop(0)\n",
        "    current_input.append(output[0])\n",
        "  return results, mae\n",
        "\n",
        "  # print_results(results)"
      ],
      "metadata": {
        "id": "0e0kZ9URiqXt"
      },
      "execution_count": null,
      "outputs": []
    },
    {
      "cell_type": "code",
      "source": [
        "# return 1 if buy else short\n",
        "def make_decision(results, mae):\n",
        "  assert PREDICT_DAYS == len(results)-1\n",
        "  avg_close = sum([r[3] for r in results[1:]])/PREDICT_DAYS\n",
        "  avg_close_mae = sum(mae[-PATIENCE:])/PATIENCE/FEATURES*2\n",
        "  yesterday = results[0][3]\n",
        "  if avg_close-avg_close_mae > yesterday:\n",
        "    return 1\n",
        "  elif avg_close+avg_close_mae < yesterday:\n",
        "    return 0\n",
        "  else:\n",
        "    return 0.5\n",
        "\n",
        "def print_results(r):\n",
        "  print(\"DAY     OPEN     HIGH      LOW    CLOSE   ADJ-CL\")\n",
        "  print(\"--- -------- -------- -------- -------- -------- \")\n",
        "  for i, v in enumerate(r):\n",
        "    print(\"{:<3} \".format(i), end=\"\")\n",
        "    print((\"{:8.2f} \"*5).format(*v))\n",
        "\n",
        "def print_average_results(predictions):\n",
        "  sums = [[0] * FEATURES for i in range(PREDICT_DAYS + 1)]\n",
        "  n = len(predictions)\n",
        "  for p in predictions:\n",
        "    for i, d in enumerate(p):\n",
        "      for j, v in enumerate(d):\n",
        "        sums[i][j] += v\n",
        "  for i in range(len(sums)):\n",
        "    for j in range(len(sums[i])):\n",
        "      sums[i][j] /= n\n",
        "  print_results(sums)\n",
        "\n"
      ],
      "metadata": {
        "id": "W6JlSzDBlnWy"
      },
      "execution_count": null,
      "outputs": []
    },
    {
      "cell_type": "code",
      "source": [
        "for s in STOCK_CODES:\n",
        "  decisions = 0\n",
        "  predictions = []\n",
        "  print(f\"Analyzing {s}:\")\n",
        "  for t in tqdm(range(TEST_RUN)):\n",
        "    prediction, mae = predict(s)\n",
        "    decision = make_decision(prediction, mae)  \n",
        "    decisions += decision\n",
        "    predictions.append(prediction)\n",
        "    # print(f\" Decision score: {decision}\")\n",
        "\n",
        "  if decisions < TEST_RUN*0.3:\n",
        "    print(f\"SHORT {s}\")\n",
        "    print_average_results(predictions)\n",
        "  elif decisions > TEST_RUN*0.7:\n",
        "    print(f\"BUY {s}\")\n",
        "    print_average_results(predictions)\n",
        "  else:\n",
        "    print(\"NOT SURE\")"
      ],
      "metadata": {
        "colab": {
          "base_uri": "https://localhost:8080/"
        },
        "id": "T1LVtwqRw_Fn",
        "outputId": "e69c1b9d-657b-4008-b2aa-b7f9fe7cdba7"
      },
      "execution_count": null,
      "outputs": [
        {
          "output_type": "stream",
          "name": "stdout",
          "text": [
            "Analyzing AAPL:\n"
          ]
        },
        {
          "output_type": "stream",
          "name": "stderr",
          "text": [
            "100%|██████████| 10/10 [05:54<00:00, 35.44s/it]\n"
          ]
        },
        {
          "output_type": "stream",
          "name": "stdout",
          "text": [
            "NOT SURE\n",
            "Analyzing AMD:\n"
          ]
        },
        {
          "output_type": "stream",
          "name": "stderr",
          "text": [
            "100%|██████████| 10/10 [05:22<00:00, 32.26s/it]\n"
          ]
        },
        {
          "output_type": "stream",
          "name": "stdout",
          "text": [
            "SHORT AMD\n",
            "DAY     OPEN     HIGH      LOW    CLOSE   ADJ-CL\n",
            "--- -------- -------- -------- -------- -------- \n",
            "0      95.20    97.43    93.45    97.40    97.40 \n",
            "1      96.65    98.61    94.50    96.52    96.53 \n",
            "2      95.86    97.78    93.72    95.72    95.73 \n",
            "3      95.10    97.00    92.97    94.95    94.97 \n",
            "4      94.42    96.30    92.30    94.26    94.28 \n",
            "5      93.85    95.70    91.73    93.68    93.70 \n",
            "6      93.37    95.22    91.26    93.20    93.23 \n",
            "7      92.99    94.82    90.88    92.82    92.84 \n",
            "8      92.68    94.50    90.58    92.50    92.53 \n",
            "Analyzing CVNA:\n"
          ]
        },
        {
          "output_type": "stream",
          "name": "stderr",
          "text": [
            "100%|██████████| 10/10 [05:01<00:00, 30.17s/it]\n"
          ]
        },
        {
          "output_type": "stream",
          "name": "stdout",
          "text": [
            "NOT SURE\n",
            "Analyzing GOOGL:\n"
          ]
        },
        {
          "output_type": "stream",
          "name": "stderr",
          "text": [
            "100%|██████████| 10/10 [07:05<00:00, 42.53s/it]\n"
          ]
        },
        {
          "output_type": "stream",
          "name": "stdout",
          "text": [
            "SHORT GOOGL\n",
            "DAY     OPEN     HIGH      LOW    CLOSE   ADJ-CL\n",
            "--- -------- -------- -------- -------- -------- \n",
            "0     116.11   118.48   116.01   116.51   116.51 \n",
            "1     116.19   117.45   114.86   116.20   116.21 \n",
            "2     115.70   116.96   114.37   115.71   115.72 \n",
            "3     115.24   116.50   113.92   115.26   115.27 \n",
            "4     114.84   116.09   113.52   114.85   114.86 \n",
            "5     114.48   115.73   113.16   114.49   114.50 \n",
            "6     114.16   115.41   112.84   114.18   114.19 \n",
            "7     113.88   115.13   112.57   113.90   113.91 \n",
            "8     113.64   114.88   112.33   113.66   113.67 \n",
            "Analyzing MSFT:\n"
          ]
        },
        {
          "output_type": "stream",
          "name": "stderr",
          "text": [
            "100%|██████████| 10/10 [06:43<00:00, 40.33s/it]\n"
          ]
        },
        {
          "output_type": "stream",
          "name": "stdout",
          "text": [
            "NOT SURE\n",
            "Analyzing NVDA:\n"
          ]
        },
        {
          "output_type": "stream",
          "name": "stderr",
          "text": [
            "100%|██████████| 10/10 [05:12<00:00, 31.20s/it]\n"
          ]
        },
        {
          "output_type": "stream",
          "name": "stdout",
          "text": [
            "NOT SURE\n",
            "Analyzing PLTR:\n"
          ]
        },
        {
          "output_type": "stream",
          "name": "stderr",
          "text": [
            "100%|██████████| 10/10 [06:42<00:00, 40.28s/it]\n"
          ]
        },
        {
          "output_type": "stream",
          "name": "stdout",
          "text": [
            "SHORT PLTR\n",
            "DAY     OPEN     HIGH      LOW    CLOSE   ADJ-CL\n",
            "--- -------- -------- -------- -------- -------- \n",
            "0       9.21     9.60     9.02     9.52     9.52 \n",
            "1       9.22     9.49     8.98     9.25     9.25 \n",
            "2       9.08     9.35     8.84     9.11     9.11 \n",
            "3       8.96     9.23     8.73     9.00     9.00 \n",
            "4       8.85     9.12     8.63     8.89     8.89 \n",
            "5       8.76     9.02     8.54     8.80     8.80 \n",
            "6       8.68     8.93     8.46     8.72     8.71 \n",
            "7       8.60     8.86     8.38     8.64     8.64 \n",
            "8       8.54     8.79     8.32     8.58     8.58 \n",
            "Analyzing RBLX:\n"
          ]
        },
        {
          "output_type": "stream",
          "name": "stderr",
          "text": [
            "100%|██████████| 10/10 [04:14<00:00, 25.40s/it]\n"
          ]
        },
        {
          "output_type": "stream",
          "name": "stdout",
          "text": [
            "NOT SURE\n",
            "Analyzing RIVN:\n"
          ]
        },
        {
          "output_type": "stream",
          "name": "stderr",
          "text": [
            "100%|██████████| 10/10 [03:39<00:00, 21.96s/it]\n"
          ]
        },
        {
          "output_type": "stream",
          "name": "stdout",
          "text": [
            "NOT SURE\n",
            "Analyzing T:\n"
          ]
        },
        {
          "output_type": "stream",
          "name": "stderr",
          "text": [
            "100%|██████████| 10/10 [10:05<00:00, 60.52s/it]\n"
          ]
        },
        {
          "output_type": "stream",
          "name": "stdout",
          "text": [
            "NOT SURE\n",
            "Analyzing TSLA:\n"
          ]
        },
        {
          "output_type": "stream",
          "name": "stderr",
          "text": [
            "100%|██████████| 10/10 [06:39<00:00, 39.94s/it]"
          ]
        },
        {
          "output_type": "stream",
          "name": "stdout",
          "text": [
            "NOT SURE\n"
          ]
        },
        {
          "output_type": "stream",
          "name": "stderr",
          "text": [
            "\n"
          ]
        }
      ]
    }
  ]
}